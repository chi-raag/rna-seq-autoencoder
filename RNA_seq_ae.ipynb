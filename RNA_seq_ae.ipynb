{
 "cells": [
  {
   "source": [
    "## Researcher Markdown\n",
    "\n",
    "Use this notebook to perform analyses either using collected data or the pre-existing Zeisel and Mak datasets"
   ],
   "cell_type": "markdown",
   "metadata": {}
  },
  {
   "cell_type": "code",
   "execution_count": 2,
   "metadata": {},
   "outputs": [],
   "source": [
    "from RNA_seq_ae import *\n",
    "from utils import *"
   ]
  },
  {
   "source": [
    "Below, define a model using an input count matrix. True cell type labels can be additionally passed into the method to allow for metric evaluation of autoencoder performance against PCA"
   ],
   "cell_type": "markdown",
   "metadata": {}
  },
  {
   "cell_type": "code",
   "execution_count": 3,
   "metadata": {},
   "outputs": [],
   "source": [
    "zeisel = RNA_seq_ae(\"data/zeisel/sub_set-720.mtx\", \"data/zeisel/labels.txt\")\n",
    "zeisel_processed_data = zeisel.processed_data()"
   ]
  },
  {
   "source": [
    "Use the `train_model` function or `train_models` function to train either an individual or groups of models respectively"
   ],
   "cell_type": "markdown",
   "metadata": {}
  },
  {
   "cell_type": "code",
   "execution_count": 5,
   "metadata": {},
   "outputs": [
    {
     "output_type": "stream",
     "name": "stdout",
     "text": [
      "finished model 1 out of 7\n",
      "finished model 2 out of 7\n",
      "finished model 3 out of 7\n",
      "finished model 4 out of 7\n",
      "finished model 5 out of 7\n",
      "finished model 6 out of 7\n",
      "finished model 7 out of 7\n"
     ]
    }
   ],
   "source": [
    "# model = train_model(zeisel, epochs=40, bot_size=4)\n",
    "models = train_models(zeisel, epochs=40, min=4, max=11) #create models ranging from bot_size of 4 to 11"
   ]
  },
  {
   "source": [
    "Use the `get_statistics` function to retrieve NMI metric data for the specified autoencoders"
   ],
   "cell_type": "markdown",
   "metadata": {}
  },
  {
   "cell_type": "code",
   "execution_count": 256,
   "metadata": {},
   "outputs": [
    {
     "data": {
      "text/html": [
       "<div>\n",
       "<style scoped>\n",
       "    .dataframe tbody tr th:only-of-type {\n",
       "        vertical-align: middle;\n",
       "    }\n",
       "\n",
       "    .dataframe tbody tr th {\n",
       "        vertical-align: top;\n",
       "    }\n",
       "\n",
       "    .dataframe thead th {\n",
       "        text-align: right;\n",
       "    }\n",
       "</style>\n",
       "<table border=\"1\" class=\"dataframe\">\n",
       "  <thead>\n",
       "    <tr style=\"text-align: right;\">\n",
       "      <th></th>\n",
       "      <th>comp</th>\n",
       "      <th>type</th>\n",
       "      <th>nmi</th>\n",
       "    </tr>\n",
       "  </thead>\n",
       "  <tbody>\n",
       "    <tr>\n",
       "      <th>0</th>\n",
       "      <td>8</td>\n",
       "      <td>ae</td>\n",
       "      <td>0.177932</td>\n",
       "    </tr>\n",
       "    <tr>\n",
       "      <th>1</th>\n",
       "      <td>9</td>\n",
       "      <td>ae</td>\n",
       "      <td>0.179687</td>\n",
       "    </tr>\n",
       "    <tr>\n",
       "      <th>2</th>\n",
       "      <td>10</td>\n",
       "      <td>ae</td>\n",
       "      <td>0.174835</td>\n",
       "    </tr>\n",
       "    <tr>\n",
       "      <th>0</th>\n",
       "      <td>2</td>\n",
       "      <td>pca</td>\n",
       "      <td>0.270971</td>\n",
       "    </tr>\n",
       "    <tr>\n",
       "      <th>0</th>\n",
       "      <td>3</td>\n",
       "      <td>pca</td>\n",
       "      <td>0.280332</td>\n",
       "    </tr>\n",
       "    <tr>\n",
       "      <th>0</th>\n",
       "      <td>4</td>\n",
       "      <td>pca</td>\n",
       "      <td>0.253184</td>\n",
       "    </tr>\n",
       "    <tr>\n",
       "      <th>0</th>\n",
       "      <td>5</td>\n",
       "      <td>pca</td>\n",
       "      <td>0.265812</td>\n",
       "    </tr>\n",
       "    <tr>\n",
       "      <th>0</th>\n",
       "      <td>6</td>\n",
       "      <td>pca</td>\n",
       "      <td>0.265191</td>\n",
       "    </tr>\n",
       "    <tr>\n",
       "      <th>0</th>\n",
       "      <td>7</td>\n",
       "      <td>pca</td>\n",
       "      <td>0.264616</td>\n",
       "    </tr>\n",
       "    <tr>\n",
       "      <th>0</th>\n",
       "      <td>8</td>\n",
       "      <td>pca</td>\n",
       "      <td>0.263968</td>\n",
       "    </tr>\n",
       "    <tr>\n",
       "      <th>0</th>\n",
       "      <td>9</td>\n",
       "      <td>pca</td>\n",
       "      <td>0.267256</td>\n",
       "    </tr>\n",
       "  </tbody>\n",
       "</table>\n",
       "</div>"
      ],
      "text/plain": [
       "  comp type       nmi\n",
       "0    8   ae  0.177932\n",
       "1    9   ae  0.179687\n",
       "2   10   ae  0.174835\n",
       "0    2  pca  0.270971\n",
       "0    3  pca  0.280332\n",
       "0    4  pca  0.253184\n",
       "0    5  pca  0.265812\n",
       "0    6  pca  0.265191\n",
       "0    7  pca  0.264616\n",
       "0    8  pca  0.263968\n",
       "0    9  pca  0.267256"
      ]
     },
     "execution_count": 256,
     "metadata": {},
     "output_type": "execute_result"
    }
   ],
   "source": [
    "z_statistics = get_statistics(models, zeisel_processed_data)"
   ]
  },
  {
   "cell_type": "code",
   "execution_count": null,
   "metadata": {},
   "outputs": [],
   "source": []
  }
 ],
 "metadata": {
  "kernelspec": {
   "display_name": "data_science",
   "language": "python",
   "name": "data_science"
  },
  "language_info": {
   "codemirror_mode": {
    "name": "ipython",
    "version": 3
   },
   "file_extension": ".py",
   "mimetype": "text/x-python",
   "name": "python",
   "nbconvert_exporter": "python",
   "pygments_lexer": "ipython3",
   "version": "3.8.5-final"
  }
 },
 "nbformat": 4,
 "nbformat_minor": 4
}