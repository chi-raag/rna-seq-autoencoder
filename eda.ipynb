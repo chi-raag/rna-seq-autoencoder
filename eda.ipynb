 "metadata": {
  "language_info": {
   "codemirror_mode": {
    "name": "ipython",
    "version": 3
   },
   "file_extension": ".py",
   "mimetype": "text/x-python",
   "name": "python",
   "nbconvert_exporter": "python",
   "pygments_lexer": "ipython3",
   "version": "3.8.5-final"
  },
  "orig_nbformat": 2,
  "kernelspec": {
   "name": "python3",
   "display_name": "Python 3.8.5 64-bit ('base': conda)",
   "metadata": {
    "interpreter": {
     "hash": "ebad1c2299cbdc1d5cb01f0f6710436b660160452616f0265ac54093ee3db418"
    }
   }
  }
 },
 "nbformat": 4,
 "nbformat_minor": 2,
 "cells": [
  {
   "cell_type": "code",
   "execution_count": 1,
   "metadata": {},
   "outputs": [
    {
     "output_type": "error",
     "ename": "ImportError",
     "evalue": "cannot import name 'normalize' from 'preprocess' (/Users/chiraag_gohel/miniconda3/lib/python3.8/site-packages/preprocess.py)",
     "traceback": [
      "\u001b[0;31m---------------------------------------------------------------------------\u001b[0m",
      "\u001b[0;31mImportError\u001b[0m                               Traceback (most recent call last)",
      "\u001b[0;32m<ipython-input-1-8d4d1520f9f6>\u001b[0m in \u001b[0;36m<module>\u001b[0;34m\u001b[0m\n\u001b[1;32m      3\u001b[0m \u001b[0;32mimport\u001b[0m \u001b[0mscanpy\u001b[0m \u001b[0;32mas\u001b[0m \u001b[0msc\u001b[0m\u001b[0;34m\u001b[0m\u001b[0;34m\u001b[0m\u001b[0m\n\u001b[1;32m      4\u001b[0m \u001b[0;32mimport\u001b[0m \u001b[0mh5py\u001b[0m\u001b[0;34m\u001b[0m\u001b[0;34m\u001b[0m\u001b[0m\n\u001b[0;32m----> 5\u001b[0;31m \u001b[0;32mfrom\u001b[0m \u001b[0mpreprocess\u001b[0m \u001b[0;32mimport\u001b[0m \u001b[0mnormalize\u001b[0m\u001b[0;34m\u001b[0m\u001b[0;34m\u001b[0m\u001b[0m\n\u001b[0m",
      "\u001b[0;31mImportError\u001b[0m: cannot import name 'normalize' from 'preprocess' (/Users/chiraag_gohel/miniconda3/lib/python3.8/site-packages/preprocess.py)"
     ]
    }
   ],
   "source": [
    "import numpy as np\n",
    "import pandas as pd\n",
    "import scanpy as sc\n",
    "import h5py\n",
    "from preprocess import normalize"
   ]
  },
  {
   "cell_type": "code",
   "execution_count": 22,
   "metadata": {},
   "outputs": [
    {
     "output_type": "stream",
     "name": "stderr",
     "text": [
      "Variable names are not unique. To make them unique, call `.var_names_make_unique`.\n",
      "Variable names are not unique. To make them unique, call `.var_names_make_unique`.\n"
     ]
    }
   ],
   "source": [
    "data_mat = sc.read_10x_h5('filtered_feature_bc_matrix.h5')\n",
    "treatment_barcodes = pd.read_table('barcodes.Danielle_merged-premrna.treatments.txt')"
   ]
  },
  {
   "cell_type": "code",
   "execution_count": 24,
   "metadata": {},
   "outputs": [
    {
     "output_type": "execute_result",
     "data": {
      "text/plain": [
       "<bound method NDFrame.head of         AAACCCAAGATCCTAC-1   1  Ethanol\n",
       "0       AAACCCAAGCGCCTCA-1   1  Ethanol\n",
       "1       AAACCCAAGGTGGTTG-1   1  Ethanol\n",
       "2       AAACCCAAGTCATGAA-1   1  Ethanol\n",
       "3       AAACCCAGTGACTCGC-1   1  Ethanol\n",
       "4       AAACCCAGTGGTCAAG-1   1  Ethanol\n",
       "...                    ...  ..      ...\n",
       "62053  TTTGGTTAGGCGAAGG-12  12  Ethanol\n",
       "62054  TTTGGTTCATCATTTC-12  12  Ethanol\n",
       "62055  TTTGTTGAGCAAATCA-12  12  Ethanol\n",
       "62056  TTTGTTGGTACGACTT-12  12  Ethanol\n",
       "62057  TTTGTTGGTCCGGTCA-12  12  Ethanol\n",
       "\n",
       "[62058 rows x 3 columns]>"
      ]
     },
     "metadata": {},
     "execution_count": 24
    }
   ],
   "source": [
    "data_mat = read_dataset(data_mat,\n",
    "                     transpose=False,\n",
    "                     test_split=False,\n",
    "                     copy=True)\n",
    "                     \n",
    "adata = normalize(data_mat,\n",
    "                  size_factors=True,\n",
    "                  normalize_input=True,\n",
    "                  logtrans_input=True)"
   ]
  },
  {
   "cell_type": "code",
   "execution_count": null,
   "metadata": {},
   "outputs": [],
   "source": []
  }
 ]
}
